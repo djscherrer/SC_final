{
 "cells": [
  {
   "cell_type": "code",
   "execution_count": null,
   "metadata": {},
   "outputs": [],
   "source": [
    "import arxiv\n",
    "import os\n",
    "import tarfile\n",
    "\n",
    "# Construct the default API client.\n",
    "client = arxiv.Client()\n",
    "\n",
    "# Search for the 10 most recent articles matching the keyword \"quantum.\"\n",
    "cat = 'Computer Science'\n",
    "tmpdir = './tarfiles'\n",
    "dirpath = f'./selected_papers/{cat}'\n",
    "\n",
    "if not os.path.exists(dirpath):\n",
    "  os.makedirs(dirpath)\n",
    "\n",
    "if not os.path.exists(tmpdir):\n",
    "    os.makedirs(tmpdir)\n",
    "\n",
    "\n",
    "search = arxiv.Search(\n",
    "  query = f\"cat={cat}\",\n",
    "  sort_by = arxiv.SortCriterion.SubmittedDate\n",
    ")\n",
    "\n",
    "results = client.results(search)\n",
    "\n",
    "successful_downloads = 0\n",
    "\n",
    "for i,r in enumerate(client.results(search)):\n",
    "    filename = f\"paper_{i}.tar.gz\"\n",
    "    filepath = r.download_source(dirpath=tmpdir, filename=filename)\n",
    "    try:\n",
    "        with tarfile.open(filepath, 'r:gz') as tar:\n",
    "            files = tar.getmembers()\n",
    "            tex_files = [f.name for f in files if f.name.endswith('.tex')]\n",
    "            if len(tex_files) == 1:\n",
    "                tex_file = tex_files[0]\n",
    "                print(f\"Extracting {tex_file}\")\n",
    "                tar.extract(tex_file, path=dirpath)\n",
    "                os.rename(os.path.join(dirpath, tex_file), os.path.join(dirpath, f'paper_{i}.tex'))\n",
    "                successful_downloads += 1\n",
    "            else:\n",
    "                print(f\"Paper {i} has {len(tex_files)} tex files. Skipping.\")\n",
    "            tar.close()\n",
    "    except Exception as e:\n",
    "        print(f\"Error extracting {filepath}: {e}\")\n",
    "    os.remove(filepath)\n",
    "    if successful_downloads == 10:\n",
    "        break\n",
    "\n",
    "os.removedirs(tmpdir)\n"
   ]
  }
 ],
 "metadata": {
  "kernelspec": {
   "display_name": "SocialComputing",
   "language": "python",
   "name": "python3"
  },
  "language_info": {
   "codemirror_mode": {
    "name": "ipython",
    "version": 3
   },
   "file_extension": ".py",
   "mimetype": "text/x-python",
   "name": "python",
   "nbconvert_exporter": "python",
   "pygments_lexer": "ipython3",
   "version": "3.9.12"
  }
 },
 "nbformat": 4,
 "nbformat_minor": 2
}
