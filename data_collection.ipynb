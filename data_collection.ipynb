{
 "cells": [
  {
   "cell_type": "code",
   "execution_count": 1,
   "metadata": {},
   "outputs": [
    {
     "name": "stdout",
     "output_type": "stream",
     "text": [
      "Extracting main.tex\n",
      "Error extracting ./tarfiles/paper_1.tar.gz: not a gzip file\n",
      "Extracting main.tex\n",
      "Extracting okuyama.tex\n",
      "Error extracting ./tarfiles/paper_4.tar.gz: not a gzip file\n",
      "Extracting main.tex\n",
      "Paper 6 has 18 tex files. Skipping.\n",
      "Extracting main.tex\n",
      "Extracting EuOKerrv6.tex\n",
      "Extracting main.tex\n",
      "Extracting main.tex\n",
      "Error extracting ./tarfiles/paper_11.tar.gz: not a gzip file\n",
      "Extracting main.tex\n",
      "Error extracting ./tarfiles/paper_13.tar.gz: not a gzip file\n",
      "Extracting article.tex\n"
     ]
    }
   ],
   "source": [
    "import arxiv\n",
    "import os\n",
    "import tarfile\n",
    "\n",
    "# Construct the default API client.\n",
    "client = arxiv.Client()\n",
    "\n",
    "# Search for the 10 most recent articles matching the keyword \"quantum.\"\n",
    "cat = 'Computer Science'\n",
    "tmpdir = './tarfiles'\n",
    "dirpath = f'./selected_papers/{cat}'\n",
    "\n",
    "if not os.path.exists(dirpath):\n",
    "  os.makedirs(dirpath)\n",
    "\n",
    "if not os.path.exists(tmpdir):\n",
    "    os.makedirs(tmpdir)\n",
    "\n",
    "\n",
    "search = arxiv.Search(\n",
    "  query = f\"cat={cat}\",\n",
    "  sort_by = arxiv.SortCriterion.SubmittedDate\n",
    ")\n",
    "\n",
    "results = client.results(search)\n",
    "\n",
    "successful_downloads = 0\n",
    "\n",
    "for i,r in enumerate(client.results(search)):\n",
    "    filename = f\"paper_{i}.tar.gz\"\n",
    "    filepath = r.download_source(dirpath=tmpdir, filename=filename)\n",
    "    try:\n",
    "        with tarfile.open(filepath, 'r:gz') as tar:\n",
    "            files = tar.getmembers()\n",
    "            tex_files = [f.name for f in files if f.name.endswith('.tex')]\n",
    "            if len(tex_files) == 1:\n",
    "                tex_file = tex_files[0]\n",
    "                print(f\"Extracting {tex_file}\")\n",
    "                tar.extract(tex_file, path=dirpath)\n",
    "                os.rename(os.path.join(dirpath, tex_file), os.path.join(dirpath, f'paper_{i}.tex'))\n",
    "                successful_downloads += 1\n",
    "            else:\n",
    "                print(f\"Paper {i} has {len(tex_files)} tex files. Skipping.\")\n",
    "            tar.close()\n",
    "    except Exception as e:\n",
    "        print(f\"Error extracting {filepath}: {e}\")\n",
    "    os.remove(filepath)\n",
    "    if successful_downloads == 10:\n",
    "        break\n",
    "\n",
    "os.removedirs(tmpdir)\n"
   ]
  },
  {
   "cell_type": "code",
   "execution_count": 19,
   "metadata": {},
   "outputs": [
    {
     "name": "stdout",
     "output_type": "stream",
     "text": [
      "Processing paper_5.tex\n"
     ]
    }
   ],
   "source": [
    "import re\n",
    "tex_files = [f for f in os.listdir(dirpath) if f.endswith('.tex')]\n",
    "tex_file = tex_files[8]\n",
    "print(f\"Processing {tex_file}\")\n",
    "tex_file_path = os.path.join(dirpath, tex_file)\n",
    "\n",
    "def remove_all_comments(text):\n",
    "    text = '\\n'.join([line for line in text.split('\\n') if not line.strip().startswith('%')])\n",
    "    return re.sub(r'%.*\\n', '', text)\n",
    "\n",
    "def remove_email(text):\n",
    "    text = re.sub(r'\\\\email\\{.*?\\}', '', text)\n",
    "    return re.sub(r'\\\\ead\\{.*?\\}', '', text)\n",
    "\n",
    "def replace_affiliations(text):\n",
    "    # TODO do not forget group [] in replacement\n",
    "    text = re.sub(r'\\\\affiliation(?:\\[\\d+\\])?\\{[^}]*\\}', r\"\\\\affiliation{$$$_REPLACE_AFF_VAR_$$$}\", text)\n",
    "    return re.sub(r'\\\\affil(?:\\[\\d+\\])?\\{[^}]*\\}', r\"\\\\affil{$$$_REPLACE_AFF_VAR_$$$}\", text)\n",
    "    \n",
    "\n",
    "with open(tex_file_path, 'r') as f:\n",
    "    tex_source = f.read()\n",
    "    tex_source = remove_all_comments(tex_source)\n",
    "    tex_source = remove_email(tex_source)\n",
    "    tex_source = replace_affiliations(tex_source)\n",
    "\n",
    "with open(tex_file_path, 'w') as f:\n",
    "    f.write(tex_source)\n",
    "\n"
   ]
  },
  {
   "cell_type": "code",
   "execution_count": null,
   "metadata": {},
   "outputs": [],
   "source": []
  }
 ],
 "metadata": {
  "kernelspec": {
   "display_name": "SocialComputing",
   "language": "python",
   "name": "python3"
  },
  "language_info": {
   "codemirror_mode": {
    "name": "ipython",
    "version": 3
   },
   "file_extension": ".py",
   "mimetype": "text/x-python",
   "name": "python",
   "nbconvert_exporter": "python",
   "pygments_lexer": "ipython3",
   "version": "3.9.12"
  }
 },
 "nbformat": 4,
 "nbformat_minor": 2
}
