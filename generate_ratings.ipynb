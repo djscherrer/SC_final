{
 "cells": [
  {
   "cell_type": "code",
   "execution_count": 1,
   "metadata": {},
   "outputs": [],
   "source": [
    "import pandas as pd\n",
    "import os"
   ]
  },
  {
   "cell_type": "markdown",
   "metadata": {},
   "source": [
    "#### Load the papers into a pandas df"
   ]
  },
  {
   "cell_type": "code",
   "execution_count": 2,
   "metadata": {},
   "outputs": [
    {
     "name": "stdout",
     "output_type": "stream",
     "text": [
      "         title       field association  \\\n",
      "0  AP_paper_12  Statistics        None   \n",
      "1   AP_paper_8  Statistics        None   \n",
      "2   AP_paper_6  Statistics        None   \n",
      "3   AP_paper_2  Statistics        None   \n",
      "4   AP_paper_3  Statistics        None   \n",
      "\n",
      "                                           paper_ltx  \n",
      "0  \\begin{document}\\n\\affiliation{$$_affiliation_...  \n",
      "1  \\begin{document}\\n\\affiliation{$$_affiliation_...  \n",
      "2  \\begin{document}\\n\\affiliation{$$_affiliation_...  \n",
      "3  \\begin{document}\\n\\affiliation{$$_affiliation_...  \n",
      "4  \\begin{document}\\n\\affiliation{$$_affiliation_...  \n"
     ]
    }
   ],
   "source": [
    "paper_source_dir = \"selected_papers\"\n",
    "\n",
    "# Load the papers\n",
    "\n",
    "paper_source_dir = \"selected_papers\"\n",
    "\n",
    "# Load the papers\n",
    "papers_list = [\n",
    "    {\"title\": file[:-4], \"field\": subdirectory, \"association\": None, \"paper_ltx\": open(os.path.join(paper_source_dir, subdirectory, file), 'r').read()}\n",
    "    for subdirectory in os.listdir(paper_source_dir)\n",
    "    if os.path.isdir(os.path.join(paper_source_dir, subdirectory))\n",
    "    for file in os.listdir(os.path.join(paper_source_dir, subdirectory))\n",
    "]\n",
    "papers_df = pd.DataFrame(papers_list)\n",
    "\n",
    "print(papers_df.head())"
   ]
  },
  {
   "cell_type": "markdown",
   "metadata": {},
   "source": [
    "#### Compute the amount of tokens needed for answer generation"
   ]
  },
  {
   "cell_type": "code",
   "execution_count": 13,
   "metadata": {},
   "outputs": [
    {
     "name": "stdout",
     "output_type": "stream",
     "text": [
      "Papers below context limit:  title           25\n",
      "field           25\n",
      "association      0\n",
      "paper_ltx       25\n",
      "input_length    25\n",
      "dtype: int64  out of  title           50\n",
      "field           50\n",
      "association      0\n",
      "paper_ltx       50\n",
      "input_length    50\n",
      "dtype: int64\n"
     ]
    }
   ],
   "source": [
    "import tiktoken\n",
    "\n",
    "number_of_countries = 11\n",
    "universities_per_country = 3\n",
    "number_of_papers = 50\n",
    "cost_input_tokens_per_M = 0.5\n",
    "cost_output_tokens_per_M = 1.5\n",
    "\n",
    "\n",
    "enc = tiktoken.encoding_for_model(\"gpt-3.5-turbo\")\n",
    "papers_df[\"input_length\"] = papers_df[\"paper_ltx\"].apply(lambda x: len(enc.encode(x)))\n",
    "\n",
    "print(\"Papers below context limit: \", papers_df[papers_df[\"input_length\"] < 16000].count(), \" out of \", papers_df.count())\n",
    "#papers_df[\"input_length\"].describe()\n",
    "\n",
    "#print(\"Cost for input tokens: \", mean_paper_tokens * number_of_papers * universities_per_country * number_of_countries * cost_input_tokens_per_M / 1e6)\n",
    "\n"
   ]
  },
  {
   "cell_type": "code",
   "execution_count": null,
   "metadata": {},
   "outputs": [],
   "source": []
  }
 ],
 "metadata": {
  "kernelspec": {
   "display_name": "project_env",
   "language": "python",
   "name": "python3"
  },
  "language_info": {
   "codemirror_mode": {
    "name": "ipython",
    "version": 3
   },
   "file_extension": ".py",
   "mimetype": "text/x-python",
   "name": "python",
   "nbconvert_exporter": "python",
   "pygments_lexer": "ipython3",
   "version": "3.10.13"
  }
 },
 "nbformat": 4,
 "nbformat_minor": 2
}
