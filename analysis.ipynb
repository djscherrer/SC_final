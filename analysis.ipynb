{
 "cells": [
  {
   "cell_type": "code",
   "execution_count": null,
   "id": "initial_id",
   "metadata": {
    "collapsed": true
   },
   "outputs": [],
   "source": [
    "import pandas as pd\n",
    "import numpy as np\n",
    "\n",
    "raw_df = pd.read_csv('/data/paper_ratings.csv', delimiter=',')\n",
    "\n",
    "print(raw_df)"
   ]
  },
  {
   "cell_type": "code",
   "execution_count": null,
   "outputs": [],
   "source": [
    "university_considered = [\"University of Delhi\", \"ETH\", \"Sharif University of Technology\", \"Massachusetts Institute of Technology\", \"University of Potsdam\", \"Peking University\"]\n",
    "for university in university_considered:\n",
    "    current = raw_df[raw_df['university_association'] == university].drop(raw_df.columns[[0,1,2]], axis=1)\n",
    "    current_mean_values = current.mean()\n",
    "    current_median_values = current.median()\n",
    "    current_sd_values = current.std()\n",
    "    current_se_values = current.std() / np.sqrt(current.count())\n",
    "    \n",
    "    summary_stats = pd.DataFrame({\n",
    "        'Mean': current_mean_values,\n",
    "        'Median': current_median_values,\n",
    "        'Standard Deviation': current_sd_values,\n",
    "        'Standard Error': current_se_values\n",
    "    })\n",
    "    print(f\"{university}:\")\n",
    "    print(summary_stats)\n",
    "    print(\"\\n\")"
   ],
   "metadata": {
    "collapsed": false
   },
   "id": "3a0500d5939b6444"
  }
 ],
 "metadata": {
  "kernelspec": {
   "display_name": "Python 3",
   "language": "python",
   "name": "python3"
  },
  "language_info": {
   "codemirror_mode": {
    "name": "ipython",
    "version": 2
   },
   "file_extension": ".py",
   "mimetype": "text/x-python",
   "name": "python",
   "nbconvert_exporter": "python",
   "pygments_lexer": "ipython2",
   "version": "2.7.6"
  }
 },
 "nbformat": 4,
 "nbformat_minor": 5
}
