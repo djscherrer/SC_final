{
 "cells": [
  {
   "cell_type": "code",
   "execution_count": 17,
   "metadata": {},
   "outputs": [
    {
     "name": "stdout",
     "output_type": "stream",
     "text": [
      "http://arxiv.org/abs/cond-mat/0102536v1\n",
      "http://arxiv.org/abs/astro-ph/0608371v1\n"
     ]
    }
   ],
   "source": [
    "import urllib, urllib.request\n",
    "import xml.etree.ElementTree as ET \n",
    "\n",
    "url = 'http://export.arxiv.org/api/query?search_query=all:electron&start=0&max_results=2'\n",
    "data = urllib.request.urlopen(url)\n",
    "tree = ET.parse(data)\n",
    "root = tree.getroot()\n",
    "\n",
    "# Define the namespace to find tags within the XML\n",
    "namespace = {'arxiv': 'http://www.w3.org/2005/Atom'}\n",
    "\n",
    "# Loop through each entry in the XML\n",
    "for entry in root.findall('arxiv:entry', namespace):\n",
    "    # Find the title element within the entry and print its text\n",
    "    title = entry.find('arxiv:id', namespace)\n",
    "    if title is not None:\n",
    "        print(title.text.strip())  # Use strip() to remove leading/trailing whitespace\n",
    "\n",
    "# https://arxiv.org/src/astro-ph/0608371v1\n",
    "\n",
    "\n"
   ]
  }
 ],
 "metadata": {
  "kernelspec": {
   "display_name": "SocialComputing",
   "language": "python",
   "name": "python3"
  },
  "language_info": {
   "codemirror_mode": {
    "name": "ipython",
    "version": 3
   },
   "file_extension": ".py",
   "mimetype": "text/x-python",
   "name": "python",
   "nbconvert_exporter": "python",
   "pygments_lexer": "ipython3",
   "version": "3.9.12"
  }
 },
 "nbformat": 4,
 "nbformat_minor": 2
}
